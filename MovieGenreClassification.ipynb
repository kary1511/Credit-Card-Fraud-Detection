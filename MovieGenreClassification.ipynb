{
 "cells": [
  {
   "cell_type": "code",
   "execution_count": 1,
   "metadata": {},
   "outputs": [],
   "source": [
    "import pandas as pd"
   ]
  },
  {
   "cell_type": "code",
   "execution_count": 2,
   "metadata": {},
   "outputs": [
    {
     "name": "stderr",
     "output_type": "stream",
     "text": [
      "C:\\Users\\kary1\\AppData\\Local\\Temp\\ipykernel_20640\\862799125.py:1: ParserWarning: Falling back to the 'python' engine because the 'c' engine does not support regex separators (separators > 1 char and different from '\\s+' are interpreted as regex); you can avoid this warning by specifying engine='python'.\n",
      "  train_df=pd.read_csv('MovieData/train_data.txt', delimiter=':::')\n",
      "C:\\Users\\kary1\\AppData\\Local\\Temp\\ipykernel_20640\\862799125.py:2: ParserWarning: Falling back to the 'python' engine because the 'c' engine does not support regex separators (separators > 1 char and different from '\\s+' are interpreted as regex); you can avoid this warning by specifying engine='python'.\n",
      "  test_df=pd.read_csv('MovieData/test_data.txt', delimiter=':::')\n"
     ]
    }
   ],
   "source": [
    "train_df=pd.read_csv('MovieData/train_data.txt', delimiter=':::')\n",
    "test_df=pd.read_csv('MovieData/test_data.txt', delimiter=':::')"
   ]
  },
  {
   "cell_type": "code",
   "execution_count": 3,
   "metadata": {},
   "outputs": [
    {
     "data": {
      "text/html": [
       "<div>\n",
       "<style scoped>\n",
       "    .dataframe tbody tr th:only-of-type {\n",
       "        vertical-align: middle;\n",
       "    }\n",
       "\n",
       "    .dataframe tbody tr th {\n",
       "        vertical-align: top;\n",
       "    }\n",
       "\n",
       "    .dataframe thead th {\n",
       "        text-align: right;\n",
       "    }\n",
       "</style>\n",
       "<table border=\"1\" class=\"dataframe\">\n",
       "  <thead>\n",
       "    <tr style=\"text-align: right;\">\n",
       "      <th></th>\n",
       "      <th>Index</th>\n",
       "      <th>Name</th>\n",
       "      <th>Genre</th>\n",
       "      <th>Description</th>\n",
       "    </tr>\n",
       "  </thead>\n",
       "  <tbody>\n",
       "    <tr>\n",
       "      <th>0</th>\n",
       "      <td>1</td>\n",
       "      <td>Oscar et la dame rose (2009)</td>\n",
       "      <td>drama</td>\n",
       "      <td>Listening in to a conversation between his do...</td>\n",
       "    </tr>\n",
       "    <tr>\n",
       "      <th>1</th>\n",
       "      <td>2</td>\n",
       "      <td>Cupid (1997)</td>\n",
       "      <td>thriller</td>\n",
       "      <td>A brother and sister with a past incestuous r...</td>\n",
       "    </tr>\n",
       "    <tr>\n",
       "      <th>2</th>\n",
       "      <td>3</td>\n",
       "      <td>Young, Wild and Wonderful (1980)</td>\n",
       "      <td>adult</td>\n",
       "      <td>As the bus empties the students for their fie...</td>\n",
       "    </tr>\n",
       "    <tr>\n",
       "      <th>3</th>\n",
       "      <td>4</td>\n",
       "      <td>The Secret Sin (1915)</td>\n",
       "      <td>drama</td>\n",
       "      <td>To help their unemployed father make ends mee...</td>\n",
       "    </tr>\n",
       "    <tr>\n",
       "      <th>4</th>\n",
       "      <td>5</td>\n",
       "      <td>The Unrecovered (2007)</td>\n",
       "      <td>drama</td>\n",
       "      <td>The film's title refers not only to the un-re...</td>\n",
       "    </tr>\n",
       "  </tbody>\n",
       "</table>\n",
       "</div>"
      ],
      "text/plain": [
       "   Index                                Name       Genre  \\\n",
       "0      1       Oscar et la dame rose (2009)       drama    \n",
       "1      2                       Cupid (1997)    thriller    \n",
       "2      3   Young, Wild and Wonderful (1980)       adult    \n",
       "3      4              The Secret Sin (1915)       drama    \n",
       "4      5             The Unrecovered (2007)       drama    \n",
       "\n",
       "                                         Description  \n",
       "0   Listening in to a conversation between his do...  \n",
       "1   A brother and sister with a past incestuous r...  \n",
       "2   As the bus empties the students for their fie...  \n",
       "3   To help their unemployed father make ends mee...  \n",
       "4   The film's title refers not only to the un-re...  "
      ]
     },
     "execution_count": 3,
     "metadata": {},
     "output_type": "execute_result"
    }
   ],
   "source": [
    "from sklearn.preprocessing import LabelEncoder\n",
    "train_df.head()"
   ]
  },
  {
   "cell_type": "code",
   "execution_count": 4,
   "metadata": {},
   "outputs": [
    {
     "data": {
      "text/html": [
       "<div>\n",
       "<style scoped>\n",
       "    .dataframe tbody tr th:only-of-type {\n",
       "        vertical-align: middle;\n",
       "    }\n",
       "\n",
       "    .dataframe tbody tr th {\n",
       "        vertical-align: top;\n",
       "    }\n",
       "\n",
       "    .dataframe thead th {\n",
       "        text-align: right;\n",
       "    }\n",
       "</style>\n",
       "<table border=\"1\" class=\"dataframe\">\n",
       "  <thead>\n",
       "    <tr style=\"text-align: right;\">\n",
       "      <th></th>\n",
       "      <th>Index</th>\n",
       "      <th>Name</th>\n",
       "      <th>Genre</th>\n",
       "      <th>Description</th>\n",
       "      <th>Genre_num</th>\n",
       "    </tr>\n",
       "  </thead>\n",
       "  <tbody>\n",
       "    <tr>\n",
       "      <th>0</th>\n",
       "      <td>1</td>\n",
       "      <td>Oscar et la dame rose (2009)</td>\n",
       "      <td>drama</td>\n",
       "      <td>Listening in to a conversation between his do...</td>\n",
       "      <td>8</td>\n",
       "    </tr>\n",
       "    <tr>\n",
       "      <th>1</th>\n",
       "      <td>2</td>\n",
       "      <td>Cupid (1997)</td>\n",
       "      <td>thriller</td>\n",
       "      <td>A brother and sister with a past incestuous r...</td>\n",
       "      <td>24</td>\n",
       "    </tr>\n",
       "    <tr>\n",
       "      <th>2</th>\n",
       "      <td>3</td>\n",
       "      <td>Young, Wild and Wonderful (1980)</td>\n",
       "      <td>adult</td>\n",
       "      <td>As the bus empties the students for their fie...</td>\n",
       "      <td>1</td>\n",
       "    </tr>\n",
       "    <tr>\n",
       "      <th>3</th>\n",
       "      <td>4</td>\n",
       "      <td>The Secret Sin (1915)</td>\n",
       "      <td>drama</td>\n",
       "      <td>To help their unemployed father make ends mee...</td>\n",
       "      <td>8</td>\n",
       "    </tr>\n",
       "    <tr>\n",
       "      <th>4</th>\n",
       "      <td>5</td>\n",
       "      <td>The Unrecovered (2007)</td>\n",
       "      <td>drama</td>\n",
       "      <td>The film's title refers not only to the un-re...</td>\n",
       "      <td>8</td>\n",
       "    </tr>\n",
       "  </tbody>\n",
       "</table>\n",
       "</div>"
      ],
      "text/plain": [
       "   Index                                Name       Genre  \\\n",
       "0      1       Oscar et la dame rose (2009)       drama    \n",
       "1      2                       Cupid (1997)    thriller    \n",
       "2      3   Young, Wild and Wonderful (1980)       adult    \n",
       "3      4              The Secret Sin (1915)       drama    \n",
       "4      5             The Unrecovered (2007)       drama    \n",
       "\n",
       "                                         Description  Genre_num  \n",
       "0   Listening in to a conversation between his do...          8  \n",
       "1   A brother and sister with a past incestuous r...         24  \n",
       "2   As the bus empties the students for their fie...          1  \n",
       "3   To help their unemployed father make ends mee...          8  \n",
       "4   The film's title refers not only to the un-re...          8  "
      ]
     },
     "execution_count": 4,
     "metadata": {},
     "output_type": "execute_result"
    }
   ],
   "source": [
    "le=LabelEncoder()\n",
    "train_df['Genre_num']=le.fit_transform(train_df['Genre'])\n",
    "train_df.head()"
   ]
  },
  {
   "cell_type": "code",
   "execution_count": 5,
   "metadata": {},
   "outputs": [
    {
     "data": {
      "text/plain": [
       "Genre_num\n",
       "8     13613\n",
       "7     13096\n",
       "5      7447\n",
       "21     5073\n",
       "13     2204\n",
       "24     1591\n",
       "0      1315\n",
       "26     1032\n",
       "18      884\n",
       "9       784\n",
       "2       775\n",
       "14      731\n",
       "19      672\n",
       "20      647\n",
       "1       590\n",
       "6       505\n",
       "3       498\n",
       "22      432\n",
       "23      391\n",
       "10      323\n",
       "16      319\n",
       "15      277\n",
       "4       265\n",
       "12      243\n",
       "11      194\n",
       "17      181\n",
       "25      132\n",
       "Name: count, dtype: int64"
      ]
     },
     "execution_count": 5,
     "metadata": {},
     "output_type": "execute_result"
    }
   ],
   "source": [
    "train_df['Genre_num'].value_counts()"
   ]
  },
  {
   "cell_type": "code",
   "execution_count": 8,
   "metadata": {},
   "outputs": [],
   "source": [
    "counts=train_df['Genre_num'].value_counts()"
   ]
  },
  {
   "cell_type": "code",
   "execution_count": 9,
   "metadata": {},
   "outputs": [],
   "source": [
    "from sklearn.model_selection import train_test_split\n",
    "train_X,test_X,train_Y,test_Y=train_test_split(train_df['Description'],train_df['Genre_num'],test_size=0.2,stratify=train_df['Genre_num'])"
   ]
  },
  {
   "cell_type": "code",
   "execution_count": 12,
   "metadata": {},
   "outputs": [
    {
     "data": {
      "text/plain": [
       "10890"
      ]
     },
     "execution_count": 12,
     "metadata": {},
     "output_type": "execute_result"
    }
   ],
   "source": [
    "counts=train_Y.value_counts()\n",
    "max_count=counts[8]\n",
    "max_count"
   ]
  },
  {
   "cell_type": "code",
   "execution_count": 42,
   "metadata": {},
   "outputs": [],
   "source": [
    "train=pd.concat([train_X,train_Y], axis=1)\n",
    "upsampled_train=train[train.iloc[:,1]==8]\n",
    "for i in range(len(counts)):\n",
    "    if i!=8:\n",
    "        df=train[train.iloc[:,1]==i]\n",
    "        df=df.sample(counts[8],replace=True)\n",
    "        upsampled_train=pd.concat([upsampled_train,df],axis=0)"
   ]
  },
  {
   "cell_type": "code",
   "execution_count": 50,
   "metadata": {},
   "outputs": [
    {
     "data": {
      "text/plain": [
       "Genre_num\n",
       "8     10890\n",
       "14    10890\n",
       "25    10890\n",
       "24    10890\n",
       "23    10890\n",
       "22    10890\n",
       "21    10890\n",
       "20    10890\n",
       "19    10890\n",
       "18    10890\n",
       "17    10890\n",
       "16    10890\n",
       "15    10890\n",
       "13    10890\n",
       "0     10890\n",
       "12    10890\n",
       "11    10890\n",
       "10    10890\n",
       "9     10890\n",
       "7     10890\n",
       "6     10890\n",
       "5     10890\n",
       "4     10890\n",
       "3     10890\n",
       "2     10890\n",
       "1     10890\n",
       "26    10890\n",
       "Name: count, dtype: int64"
      ]
     },
     "execution_count": 50,
     "metadata": {},
     "output_type": "execute_result"
    }
   ],
   "source": [
    "y.value_counts()"
   ]
  },
  {
   "cell_type": "code",
   "execution_count": 43,
   "metadata": {},
   "outputs": [],
   "source": [
    "upsampled_train.shape\n",
    "X=upsampled_train.iloc[:,0]\n",
    "y=upsampled_train.iloc[:,1]"
   ]
  },
  {
   "cell_type": "code",
   "execution_count": 63,
   "metadata": {},
   "outputs": [],
   "source": [
    "from sklearn.feature_extraction.text import TfidfVectorizer,CountVectorizer\n",
    "from sklearn.pipeline import Pipeline\n",
    "from sklearn.ensemble import RandomForestClassifier\n",
    "from sklearn.naive_bayes import MultinomialNB,GaussianNB\n",
    "from sklearn.metrics import classification_report\n",
    "from imblearn.over_sampling import SMOTE"
   ]
  },
  {
   "cell_type": "code",
   "execution_count": 58,
   "metadata": {},
   "outputs": [],
   "source": [
    "v=TfidfVectorizer()\n",
    "train_Xv=v.fit_transform(train_X)\n",
    "test_Xv=v.transform(test_X)"
   ]
  },
  {
   "cell_type": "code",
   "execution_count": 57,
   "metadata": {},
   "outputs": [
    {
     "data": {
      "text/plain": [
       "(43371, 107356)"
      ]
     },
     "execution_count": 57,
     "metadata": {},
     "output_type": "execute_result"
    }
   ],
   "source": [
    "train_Xv.shape"
   ]
  },
  {
   "cell_type": "code",
   "execution_count": 59,
   "metadata": {},
   "outputs": [
    {
     "data": {
      "text/plain": [
       "(294030, 107356)"
      ]
     },
     "execution_count": 59,
     "metadata": {},
     "output_type": "execute_result"
    }
   ],
   "source": [
    "smote=SMOTE()\n",
    "X_upsampled,y_upsampled=smote.fit_resample(train_Xv,train_Y)\n",
    "X_upsampled.shape"
   ]
  },
  {
   "cell_type": "code",
   "execution_count": 44,
   "metadata": {},
   "outputs": [
    {
     "data": {
      "text/plain": [
       "(294030,)"
      ]
     },
     "execution_count": 44,
     "metadata": {},
     "output_type": "execute_result"
    }
   ],
   "source": [
    "X.shape"
   ]
  },
  {
   "cell_type": "code",
   "execution_count": 67,
   "metadata": {},
   "outputs": [
    {
     "name": "stdout",
     "output_type": "stream",
     "text": [
      "              precision    recall  f1-score   support\n",
      "\n",
      "           0       0.34      0.46      0.39       263\n",
      "           1       0.48      0.66      0.56       118\n",
      "           2       0.26      0.24      0.25       155\n",
      "           3       0.27      0.23      0.25       100\n",
      "           4       0.01      0.02      0.01        53\n",
      "           5       0.61      0.45      0.52      1490\n",
      "           6       0.14      0.22      0.17       101\n",
      "           7       0.73      0.65      0.69      2619\n",
      "           8       0.68      0.38      0.49      2723\n",
      "           9       0.21      0.24      0.22       157\n",
      "          10       0.20      0.23      0.21        65\n",
      "          11       0.60      0.79      0.68        39\n",
      "          12       0.11      0.14      0.12        49\n",
      "          13       0.48      0.76      0.59       441\n",
      "          14       0.32      0.80      0.46       146\n",
      "          15       0.26      0.20      0.22        55\n",
      "          16       0.09      0.14      0.11        64\n",
      "          17       0.26      0.28      0.27        36\n",
      "          18       0.29      0.58      0.39       177\n",
      "          19       0.11      0.40      0.17       134\n",
      "          20       0.30      0.52      0.38       129\n",
      "          21       0.44      0.32      0.37      1015\n",
      "          22       0.41      0.76      0.53        86\n",
      "          23       0.28      0.53      0.36        78\n",
      "          24       0.18      0.43      0.26       318\n",
      "          25       0.17      0.46      0.25        26\n",
      "          26       0.63      0.92      0.75       206\n",
      "\n",
      "    accuracy                           0.49     10843\n",
      "   macro avg       0.33      0.44      0.36     10843\n",
      "weighted avg       0.56      0.49      0.50     10843\n",
      "\n"
     ]
    }
   ],
   "source": [
    "model=MultinomialNB()\n",
    "model.fit(X_upsampled,y_upsampled)\n",
    "y_pred=model.predict(test_Xv)\n",
    "print(classification_report(test_Y,y_pred))"
   ]
  },
  {
   "cell_type": "code",
   "execution_count": 68,
   "metadata": {},
   "outputs": [
    {
     "data": {
      "text/html": [
       "<div>\n",
       "<style scoped>\n",
       "    .dataframe tbody tr th:only-of-type {\n",
       "        vertical-align: middle;\n",
       "    }\n",
       "\n",
       "    .dataframe tbody tr th {\n",
       "        vertical-align: top;\n",
       "    }\n",
       "\n",
       "    .dataframe thead th {\n",
       "        text-align: right;\n",
       "    }\n",
       "</style>\n",
       "<table border=\"1\" class=\"dataframe\">\n",
       "  <thead>\n",
       "    <tr style=\"text-align: right;\">\n",
       "      <th></th>\n",
       "      <th>Index</th>\n",
       "      <th>Name</th>\n",
       "      <th>Description</th>\n",
       "    </tr>\n",
       "  </thead>\n",
       "  <tbody>\n",
       "    <tr>\n",
       "      <th>0</th>\n",
       "      <td>1</td>\n",
       "      <td>Edgar's Lunch (1998)</td>\n",
       "      <td>L.R. Brane loves his life - his car, his apar...</td>\n",
       "    </tr>\n",
       "    <tr>\n",
       "      <th>1</th>\n",
       "      <td>2</td>\n",
       "      <td>La guerra de papá (1977)</td>\n",
       "      <td>Spain, March 1964: Quico is a very naughty ch...</td>\n",
       "    </tr>\n",
       "    <tr>\n",
       "      <th>2</th>\n",
       "      <td>3</td>\n",
       "      <td>Off the Beaten Track (2010)</td>\n",
       "      <td>One year in the life of Albin and his family ...</td>\n",
       "    </tr>\n",
       "    <tr>\n",
       "      <th>3</th>\n",
       "      <td>4</td>\n",
       "      <td>Meu Amigo Hindu (2015)</td>\n",
       "      <td>His father has died, he hasn't spoken with hi...</td>\n",
       "    </tr>\n",
       "    <tr>\n",
       "      <th>4</th>\n",
       "      <td>5</td>\n",
       "      <td>Er nu zhai (1955)</td>\n",
       "      <td>Before he was known internationally as a mart...</td>\n",
       "    </tr>\n",
       "  </tbody>\n",
       "</table>\n",
       "</div>"
      ],
      "text/plain": [
       "   Index                           Name  \\\n",
       "0      1          Edgar's Lunch (1998)    \n",
       "1      2      La guerra de papá (1977)    \n",
       "2      3   Off the Beaten Track (2010)    \n",
       "3      4        Meu Amigo Hindu (2015)    \n",
       "4      5             Er nu zhai (1955)    \n",
       "\n",
       "                                         Description  \n",
       "0   L.R. Brane loves his life - his car, his apar...  \n",
       "1   Spain, March 1964: Quico is a very naughty ch...  \n",
       "2   One year in the life of Albin and his family ...  \n",
       "3   His father has died, he hasn't spoken with hi...  \n",
       "4   Before he was known internationally as a mart...  "
      ]
     },
     "execution_count": 68,
     "metadata": {},
     "output_type": "execute_result"
    }
   ],
   "source": [
    "test_df.head()"
   ]
  },
  {
   "cell_type": "code",
   "execution_count": 72,
   "metadata": {},
   "outputs": [
    {
     "name": "stderr",
     "output_type": "stream",
     "text": [
      "C:\\Users\\kary1\\AppData\\Local\\Temp\\ipykernel_20640\\1518161172.py:1: ParserWarning: Falling back to the 'python' engine because the 'c' engine does not support regex separators (separators > 1 char and different from '\\s+' are interpreted as regex); you can avoid this warning by specifying engine='python'.\n",
      "  test_df=pd.read_csv('MovieData/test_data_solution.txt',delimiter=':::')\n"
     ]
    },
    {
     "data": {
      "text/html": [
       "<div>\n",
       "<style scoped>\n",
       "    .dataframe tbody tr th:only-of-type {\n",
       "        vertical-align: middle;\n",
       "    }\n",
       "\n",
       "    .dataframe tbody tr th {\n",
       "        vertical-align: top;\n",
       "    }\n",
       "\n",
       "    .dataframe thead th {\n",
       "        text-align: right;\n",
       "    }\n",
       "</style>\n",
       "<table border=\"1\" class=\"dataframe\">\n",
       "  <thead>\n",
       "    <tr style=\"text-align: right;\">\n",
       "      <th></th>\n",
       "      <th>Index</th>\n",
       "      <th>Name</th>\n",
       "      <th>Genre</th>\n",
       "      <th>Description</th>\n",
       "    </tr>\n",
       "  </thead>\n",
       "  <tbody>\n",
       "    <tr>\n",
       "      <th>0</th>\n",
       "      <td>1</td>\n",
       "      <td>Edgar's Lunch (1998)</td>\n",
       "      <td>thriller</td>\n",
       "      <td>L.R. Brane loves his life - his car, his apar...</td>\n",
       "    </tr>\n",
       "    <tr>\n",
       "      <th>1</th>\n",
       "      <td>2</td>\n",
       "      <td>La guerra de papá (1977)</td>\n",
       "      <td>comedy</td>\n",
       "      <td>Spain, March 1964: Quico is a very naughty ch...</td>\n",
       "    </tr>\n",
       "    <tr>\n",
       "      <th>2</th>\n",
       "      <td>3</td>\n",
       "      <td>Off the Beaten Track (2010)</td>\n",
       "      <td>documentary</td>\n",
       "      <td>One year in the life of Albin and his family ...</td>\n",
       "    </tr>\n",
       "    <tr>\n",
       "      <th>3</th>\n",
       "      <td>4</td>\n",
       "      <td>Meu Amigo Hindu (2015)</td>\n",
       "      <td>drama</td>\n",
       "      <td>His father has died, he hasn't spoken with hi...</td>\n",
       "    </tr>\n",
       "    <tr>\n",
       "      <th>4</th>\n",
       "      <td>5</td>\n",
       "      <td>Er nu zhai (1955)</td>\n",
       "      <td>drama</td>\n",
       "      <td>Before he was known internationally as a mart...</td>\n",
       "    </tr>\n",
       "  </tbody>\n",
       "</table>\n",
       "</div>"
      ],
      "text/plain": [
       "   Index                           Name          Genre  \\\n",
       "0      1          Edgar's Lunch (1998)       thriller    \n",
       "1      2      La guerra de papá (1977)         comedy    \n",
       "2      3   Off the Beaten Track (2010)    documentary    \n",
       "3      4        Meu Amigo Hindu (2015)          drama    \n",
       "4      5             Er nu zhai (1955)          drama    \n",
       "\n",
       "                                         Description  \n",
       "0   L.R. Brane loves his life - his car, his apar...  \n",
       "1   Spain, March 1964: Quico is a very naughty ch...  \n",
       "2   One year in the life of Albin and his family ...  \n",
       "3   His father has died, he hasn't spoken with hi...  \n",
       "4   Before he was known internationally as a mart...  "
      ]
     },
     "execution_count": 72,
     "metadata": {},
     "output_type": "execute_result"
    }
   ],
   "source": [
    "test_df=pd.read_csv('MovieData/test_data_solution.txt',delimiter=':::')\n",
    "test_df.head()"
   ]
  },
  {
   "cell_type": "code",
   "execution_count": 73,
   "metadata": {},
   "outputs": [],
   "source": [
    "test_df['Genre_num']=le.transform(test_df['Genre'])"
   ]
  },
  {
   "cell_type": "code",
   "execution_count": 74,
   "metadata": {},
   "outputs": [
    {
     "data": {
      "text/html": [
       "<div>\n",
       "<style scoped>\n",
       "    .dataframe tbody tr th:only-of-type {\n",
       "        vertical-align: middle;\n",
       "    }\n",
       "\n",
       "    .dataframe tbody tr th {\n",
       "        vertical-align: top;\n",
       "    }\n",
       "\n",
       "    .dataframe thead th {\n",
       "        text-align: right;\n",
       "    }\n",
       "</style>\n",
       "<table border=\"1\" class=\"dataframe\">\n",
       "  <thead>\n",
       "    <tr style=\"text-align: right;\">\n",
       "      <th></th>\n",
       "      <th>Index</th>\n",
       "      <th>Name</th>\n",
       "      <th>Genre</th>\n",
       "      <th>Description</th>\n",
       "      <th>Genre_num</th>\n",
       "    </tr>\n",
       "  </thead>\n",
       "  <tbody>\n",
       "    <tr>\n",
       "      <th>0</th>\n",
       "      <td>1</td>\n",
       "      <td>Edgar's Lunch (1998)</td>\n",
       "      <td>thriller</td>\n",
       "      <td>L.R. Brane loves his life - his car, his apar...</td>\n",
       "      <td>24</td>\n",
       "    </tr>\n",
       "    <tr>\n",
       "      <th>1</th>\n",
       "      <td>2</td>\n",
       "      <td>La guerra de papá (1977)</td>\n",
       "      <td>comedy</td>\n",
       "      <td>Spain, March 1964: Quico is a very naughty ch...</td>\n",
       "      <td>5</td>\n",
       "    </tr>\n",
       "    <tr>\n",
       "      <th>2</th>\n",
       "      <td>3</td>\n",
       "      <td>Off the Beaten Track (2010)</td>\n",
       "      <td>documentary</td>\n",
       "      <td>One year in the life of Albin and his family ...</td>\n",
       "      <td>7</td>\n",
       "    </tr>\n",
       "    <tr>\n",
       "      <th>3</th>\n",
       "      <td>4</td>\n",
       "      <td>Meu Amigo Hindu (2015)</td>\n",
       "      <td>drama</td>\n",
       "      <td>His father has died, he hasn't spoken with hi...</td>\n",
       "      <td>8</td>\n",
       "    </tr>\n",
       "    <tr>\n",
       "      <th>4</th>\n",
       "      <td>5</td>\n",
       "      <td>Er nu zhai (1955)</td>\n",
       "      <td>drama</td>\n",
       "      <td>Before he was known internationally as a mart...</td>\n",
       "      <td>8</td>\n",
       "    </tr>\n",
       "  </tbody>\n",
       "</table>\n",
       "</div>"
      ],
      "text/plain": [
       "   Index                           Name          Genre  \\\n",
       "0      1          Edgar's Lunch (1998)       thriller    \n",
       "1      2      La guerra de papá (1977)         comedy    \n",
       "2      3   Off the Beaten Track (2010)    documentary    \n",
       "3      4        Meu Amigo Hindu (2015)          drama    \n",
       "4      5             Er nu zhai (1955)          drama    \n",
       "\n",
       "                                         Description  Genre_num  \n",
       "0   L.R. Brane loves his life - his car, his apar...         24  \n",
       "1   Spain, March 1964: Quico is a very naughty ch...          5  \n",
       "2   One year in the life of Albin and his family ...          7  \n",
       "3   His father has died, he hasn't spoken with hi...          8  \n",
       "4   Before he was known internationally as a mart...          8  "
      ]
     },
     "execution_count": 74,
     "metadata": {},
     "output_type": "execute_result"
    }
   ],
   "source": [
    "test_df.head()"
   ]
  },
  {
   "cell_type": "code",
   "execution_count": 75,
   "metadata": {},
   "outputs": [
    {
     "data": {
      "text/plain": [
       "(54200, 107356)"
      ]
     },
     "execution_count": 75,
     "metadata": {},
     "output_type": "execute_result"
    }
   ],
   "source": [
    "text_vec=v.transform(test_df['Description'])\n",
    "text_vec.shape"
   ]
  },
  {
   "cell_type": "code",
   "execution_count": 76,
   "metadata": {},
   "outputs": [
    {
     "name": "stdout",
     "output_type": "stream",
     "text": [
      "              precision    recall  f1-score   support\n",
      "\n",
      "           0       0.34      0.49      0.40      1314\n",
      "           1       0.44      0.60      0.51       590\n",
      "           2       0.27      0.24      0.25       775\n",
      "           3       0.30      0.23      0.26       498\n",
      "           4       0.05      0.07      0.06       264\n",
      "           5       0.62      0.46      0.53      7446\n",
      "           6       0.15      0.24      0.19       505\n",
      "           7       0.74      0.66      0.70     13096\n",
      "           8       0.70      0.41      0.51     13612\n",
      "           9       0.20      0.24      0.22       783\n",
      "          10       0.18      0.20      0.19       322\n",
      "          11       0.66      0.70      0.68       193\n",
      "          12       0.08      0.09      0.09       243\n",
      "          13       0.45      0.72      0.56      2204\n",
      "          14       0.33      0.77      0.46       731\n",
      "          15       0.15      0.13      0.14       276\n",
      "          16       0.10      0.15      0.12       318\n",
      "          17       0.21      0.20      0.21       181\n",
      "          18       0.26      0.54      0.35       883\n",
      "          19       0.12      0.45      0.19       672\n",
      "          20       0.32      0.55      0.40       646\n",
      "          21       0.42      0.33      0.37      5072\n",
      "          22       0.43      0.69      0.53       431\n",
      "          23       0.28      0.45      0.34       391\n",
      "          24       0.17      0.40      0.24      1590\n",
      "          25       0.21      0.50      0.30       132\n",
      "          26       0.68      0.92      0.78      1032\n",
      "\n",
      "    accuracy                           0.49     54200\n",
      "   macro avg       0.33      0.42      0.35     54200\n",
      "weighted avg       0.56      0.49      0.51     54200\n",
      "\n"
     ]
    }
   ],
   "source": [
    "predictions=model.predict(text_vec)\n",
    "print(classification_report(test_df['Genre_num'],predictions))"
   ]
  }
 ],
 "metadata": {
  "kernelspec": {
   "display_name": "Python 3",
   "language": "python",
   "name": "python3"
  },
  "language_info": {
   "codemirror_mode": {
    "name": "ipython",
    "version": 3
   },
   "file_extension": ".py",
   "mimetype": "text/x-python",
   "name": "python",
   "nbconvert_exporter": "python",
   "pygments_lexer": "ipython3",
   "version": "3.12.1"
  }
 },
 "nbformat": 4,
 "nbformat_minor": 2
}
